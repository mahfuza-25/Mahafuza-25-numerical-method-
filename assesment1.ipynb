{
  "nbformat": 4,
  "nbformat_minor": 0,
  "metadata": {
    "colab": {
      "provenance": [],
      "authorship_tag": "ABX9TyP0ilOahru+ETuqOheY/TtV",
      "include_colab_link": true
    },
    "kernelspec": {
      "name": "python3",
      "display_name": "Python 3"
    },
    "language_info": {
      "name": "python"
    }
  },
  "cells": [
    {
      "cell_type": "markdown",
      "metadata": {
        "id": "view-in-github",
        "colab_type": "text"
      },
      "source": [
        "<a href=\"https://colab.research.google.com/github/mahfuza-25/Mahafuza-25-numerical-method-/blob/main/assesment1.ipynb\" target=\"_parent\"><img src=\"https://colab.research.google.com/assets/colab-badge.svg\" alt=\"Open In Colab\"/></a>"
      ]
    },
    {
      "cell_type": "code",
      "source": [
        "n = int(input(\"Enter the number : \"))\n",
        "\n",
        "nums = []\n",
        "\n",
        "for i in range(n):\n",
        "    num = int(input(f\"Enter number {i+1}: \"))\n",
        "    nums.append(num)\n",
        "\n",
        "\n",
        "smallest = nums[0]\n",
        "\n",
        "for number in nums:\n",
        "    if number < smallest:\n",
        "        smallest = number\n",
        "\n",
        "print(\"The smallest number is:\", smallest)"
      ],
      "metadata": {
        "colab": {
          "base_uri": "https://localhost:8080/"
        },
        "id": "c3m1LSLFd4pH",
        "outputId": "ce6a56ad-39cb-4057-8469-14dea542cbca"
      },
      "execution_count": null,
      "outputs": [
        {
          "output_type": "stream",
          "name": "stdout",
          "text": [
            "Enter the number : 2\n",
            "Enter number 1: 8\n",
            "Enter number 2: 3\n",
            "The smallest number is: 3\n"
          ]
        }
      ]
    },
    {
      "cell_type": "code",
      "source": [
        "\n",
        "st=input(\"Enter a string:\")\n",
        "re_st=''\n",
        "i=len(st)-1\n",
        "while i>=0:\n",
        "  re_st += st[i]\n",
        "  i=i-1\n",
        "\n",
        "\n",
        "print(\"Reversed string:\",re_st)"
      ],
      "metadata": {
        "colab": {
          "base_uri": "https://localhost:8080/"
        },
        "id": "whANbYOz6Qrc",
        "outputId": "fec7c731-5b27-450a-dcc6-a61c18ae3028"
      },
      "execution_count": null,
      "outputs": [
        {
          "output_type": "stream",
          "name": "stdout",
          "text": [
            "Enter a string:mahfuza\n",
            "Reversed string: azufham\n"
          ]
        }
      ]
    },
    {
      "cell_type": "code",
      "source": [
        "num = int(input(\"Enter a number: \"))\n",
        "\n",
        "if num > 0:\n",
        "    print(\"Positive\")\n",
        "elif num < 0:\n",
        "    print(\"Negative\")\n",
        "else:\n",
        "    print(\"Zero\")\n"
      ],
      "metadata": {
        "colab": {
          "base_uri": "https://localhost:8080/"
        },
        "id": "qFBVxQ466k1N",
        "outputId": "0904973f-f946-45eb-f0d4-9d4a64b47ced"
      },
      "execution_count": null,
      "outputs": [
        {
          "output_type": "stream",
          "name": "stdout",
          "text": [
            "Enter a number: -6\n",
            "Negative\n"
          ]
        }
      ]
    },
    {
      "cell_type": "code",
      "source": [
        "a=input(\"Enter a char:\")\n",
        "if a>='A' and a<='Z':\n",
        "  print(\"The character is in upercase\")\n",
        "elif a>='a' and a<='z':\n",
        "  print(\"The character is in lowercase\")\n",
        "else:\n",
        "    print(\"Invalid char\")"
      ],
      "metadata": {
        "colab": {
          "base_uri": "https://localhost:8080/"
        },
        "id": "I4xNHqM37eEQ",
        "outputId": "b897ec3b-df15-468b-a63d-f89063d54867"
      },
      "execution_count": 31,
      "outputs": [
        {
          "output_type": "stream",
          "name": "stdout",
          "text": [
            "Enter a char:K\n",
            "The character is in upercase\n"
          ]
        }
      ]
    },
    {
      "cell_type": "code",
      "source": [
        "\n",
        "num=float(input(\"Enter the number:\"))\n",
        "if num>=90 and num<=100:\n",
        "  print(\"A\")\n",
        "elif num>=80 and num<=89:\n",
        "  print(\"B\")\n",
        "elif num>=70 and num<=79:\n",
        "  print(\"C\")\n",
        "elif num>=60 and num<=69:\n",
        "  print(\"D\")\n",
        "else:\n",
        "  print(\"F\")"
      ],
      "metadata": {
        "colab": {
          "base_uri": "https://localhost:8080/"
        },
        "id": "W9UDQxwj8Ed1",
        "outputId": "effe9d6b-edf5-4376-9b88-4f118be78ff5"
      },
      "execution_count": 35,
      "outputs": [
        {
          "output_type": "stream",
          "name": "stdout",
          "text": [
            "Enter the number:55\n",
            "F\n"
          ]
        }
      ]
    }
  ]
}